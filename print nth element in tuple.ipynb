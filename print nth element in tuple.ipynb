{
 "cells": [
  {
   "cell_type": "code",
   "execution_count": 11,
   "id": "277def04-11a8-4628-8e91-7984cbbb6d70",
   "metadata": {},
   "outputs": [
    {
     "name": "stdin",
     "output_type": "stream",
     "text": [
      " Adarsh\n"
     ]
    },
    {
     "name": "stdout",
     "output_type": "stream",
     "text": [
      "['A', 'd', 'a', 'r', 's', 'h']\n",
      "('A', 'd', 'a', 'r', 's', 'h')\n",
      "A\n",
      "a\n"
     ]
    }
   ],
   "source": [
    "a=[]\n",
    "for i in range (1):\n",
    "    b=input()\n",
    "    a.extend(b)\n",
    "    print(a)\n",
    "    c=tuple(a)\n",
    "\n",
    "print(c)\n",
    "print(a[3])\n",
    "print(a[-4])\n"
   ]
  },
  {
   "cell_type": "code",
   "execution_count": null,
   "id": "a271b86b-d86f-48c7-a09a-a85581261ad0",
   "metadata": {},
   "outputs": [],
   "source": [
    "a=[]\n"
   ]
  }
 ],
 "metadata": {
  "kernelspec": {
   "display_name": "Python 3 (ipykernel)",
   "language": "python",
   "name": "python3"
  },
  "language_info": {
   "codemirror_mode": {
    "name": "ipython",
    "version": 3
   },
   "file_extension": ".py",
   "mimetype": "text/x-python",
   "name": "python",
   "nbconvert_exporter": "python",
   "pygments_lexer": "ipython3",
   "version": "3.12.7"
  }
 },
 "nbformat": 4,
 "nbformat_minor": 5
}
